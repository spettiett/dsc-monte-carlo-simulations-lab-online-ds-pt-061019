{
 "cells": [
  {
   "cell_type": "markdown",
   "metadata": {},
   "source": [
    "# Monte Carlo Simulations - Lab\n",
    "\n",
    "## Introduction\n",
    "\n",
    "In order to calculate the precise probability of an event occurring, one needs to know the number of occurrences and the number of possible outcomes. If there are a large number of variables, these sample spaces can explode very quickly. Often, these spaces are so large that analyzing all possible outcomes is not  possible. As an alternative, these large sets can be approximated using Monte Carlo simulations. In this lab, you will combine ideas from the previous lessons and labs in order to conduct a Monte Carlo simulation of a permutation test that would otherwise be infeasible to compute.\n",
    "\n",
    "\n",
    "## Objectives \n",
    "\n",
    "You will be able to:\n",
    "* Understand permutation testing\n",
    "* Understand and conduct Monte Carlo simulations"
   ]
  },
  {
   "cell_type": "markdown",
   "metadata": {},
   "source": [
    "## Exploding Sample Sizes\n",
    "\n",
    "As we discussed in the previous lecture, permutation test sizes can quickly explode as our original sample sizes grow. To demonstrate this, Create a graph to show how the number of permutations increases as we increase just one of the sample sizes. Assume that our first sample is of 25 individuals. From there, plot a graph of how the permutation test sample size increases drastically as our second sample increases from 10 to 200 individuals. (Assume that every new person has a unique blood pressure; a stretch of an assumption, but greatly simplifies our calculations for now.)"
   ]
  },
  {
   "cell_type": "code",
   "execution_count": 1,
   "metadata": {},
   "outputs": [
    {
     "data": {
      "text/plain": [
       "3.0"
      ]
     },
     "execution_count": 1,
     "metadata": {},
     "output_type": "execute_result"
    }
   ],
   "source": [
    "# Your code here\n",
    "from scipy.special import comb\n",
    "comb(3,2)"
   ]
  },
  {
   "cell_type": "code",
   "execution_count": 2,
   "metadata": {},
   "outputs": [
    {
     "data": {
      "text/plain": [
       "12.0"
      ]
     },
     "execution_count": 2,
     "metadata": {},
     "output_type": "execute_result"
    }
   ],
   "source": [
    "import math\n",
    "# Equation for combinations:   n!/(n-k)! * k!\n",
    "#                              3!/(3-2)! * 2!\n",
    "n=3\n",
    "k=2\n",
    "math.factorial(n) / math.factorial(n-k) * math.factorial(k)"
   ]
  },
  {
   "cell_type": "code",
   "execution_count": 3,
   "metadata": {},
   "outputs": [
    {
     "data": {
      "text/plain": [
       "183579396.0"
      ]
     },
     "execution_count": 3,
     "metadata": {},
     "output_type": "execute_result"
    }
   ],
   "source": [
    "sample_1 = 25\n",
    "sample_2 = 10\n",
    "comb(35,10)"
   ]
  },
  {
   "cell_type": "code",
   "execution_count": 9,
   "metadata": {},
   "outputs": [
    {
     "name": "stdout",
     "output_type": "stream",
     "text": [
      "183579396.0\n",
      "600805296.0\n",
      "1852482996.0\n",
      "5414950296.0\n",
      "15084504396.0\n",
      "40225345056.0\n",
      "103077446706.0\n",
      "254661927156.0\n",
      "608359048206.0\n",
      "1408831480056.0\n",
      "3169870830126.001\n",
      "6943526580276.001\n",
      "14833897694226.0\n",
      "30957699535775.996\n",
      "63205303218876.016\n",
      "126410606437752.05\n",
      "247959266474052.0\n",
      "477551179875952.06\n",
      "903936161908052.2\n",
      "1683191473897752.8\n",
      "3085851035479212.0\n",
      "5574440580220512.0\n",
      "9929472283517788.0\n",
      "1.7451799771031264e+16\n",
      "3.028400548502483e+16\n",
      "5.1915437974328296e+16\n",
      "8.796782545650074e+16\n",
      "1.4740554535954176e+17\n",
      "2.4438287783292445e+17\n",
      "4.01038568751466e+17\n",
      "6.516876742211318e+17\n",
      "1.0490582072827974e+18\n",
      "1.6734976163797012e+18\n",
      "2.646461346833016e+18\n",
      "4.1501325666245023e+18\n",
      "6.455761770304783e+18\n",
      "9.96432794981825e+18\n",
      "1.5264502391210936e+19\n",
      "2.321476405329997e+19\n",
      "3.5059031427432604e+19\n",
      "5.25885471411489e+19\n",
      "7.836724672014346e+19\n",
      "1.1604380764328937e+20\n",
      "1.707814527580485e+20\n",
      "2.4984694014603392e+20\n",
      "3.634137311215038e+20\n",
      "5.2565200394360377e+20\n",
      "7.562011284802722e+20\n",
      "1.0821498907562514e+21\n",
      "1.5406879800597485e+21\n",
      "2.1826413050846432e+21\n",
      "3.0771664301193324e+21\n",
      "4.3179593454900305e+21\n",
      "6.031435276240042e+21\n",
      "8.38746468102131e+21\n",
      "1.1613412635260276e+22\n",
      "1.6012432572858862e+22\n",
      "2.198722084631367e+22\n",
      "3.0070757922164273e+22\n",
      "4.096596006787599e+22\n",
      "5.55966600921174e+22\n",
      "7.517294885694744e+22\n",
      "1.0127466721005416e+23\n",
      "1.3595777241897692e+23\n",
      "1.8188945229025285e+23\n",
      "2.425192697203371e+23\n",
      "3.2229534528623754e+23\n",
      "4.269366911583925e+23\n",
      "5.6377537422197996e+23\n",
      "7.421853027732394e+23\n",
      "9.741182098898768e+23\n",
      "1.2747719783744064e+24\n",
      "1.6634219717812378e+24\n",
      "2.1644526861731775e+24\n",
      "2.808635033248527e+24\n",
      "3.6347041606745647e+24\n",
      "4.6913042073822856e+24\n",
      "6.039380129043864e+24\n",
      "7.755113120249508e+24\n",
      "9.93351568211735e+24\n",
      "1.269282559381661e+25\n",
      "1.6179865592117876e+25\n",
      "2.0576568198671646e+25\n",
      "2.610790373594897e+25\n",
      "3.305149515508433e+25\n",
      "4.174925703800126e+25\n",
      "5.262145939164743e+25\n",
      "6.618369119361841e+25\n",
      "8.3067285885868e+25\n",
      "1.0404387323078414e+26\n",
      "1.3005484153848021e+26\n",
      "1.622466339985001e+26\n",
      "2.0201296586087755e+26\n",
      "2.510452391280808e+26\n",
      "3.1139265238002334e+26\n",
      "3.8553376008955275e+26\n",
      "4.764615336955793e+26\n",
      "5.8778432194221e+26\n",
      "7.238455075769806e+26\n",
      "8.898651194065633e+26\n",
      "1.0921071919989644e+27\n",
      "1.3380772802870187e+27\n",
      "1.6367552446368e+27\n",
      "1.998869236813084e+27\n",
      "2.437217753658058e+27\n",
      "2.9670477001054617e+27\n",
      "3.606497635473018e+27\n",
      "4.377116788351869e+27\n",
      "5.304472040121334e+27\n",
      "6.418856922499764e+27\n",
      "7.75611878135388e+27\n",
      "9.358622661798895e+27\n",
      "1.1276373207249493e+28\n",
      "1.3568318981080693e+28\n",
      "1.6303867162750184e+28\n",
      "1.9564640595300221e+28\n",
      "2.344651372928836e+28\n",
      "2.806196918780969e+28\n",
      "3.354282254480377e+28\n",
      "4.00433695496107e+28\n",
      "4.774401753992045e+28\n",
      "5.6855471268912905e+28\n",
      "6.762355294863123e+28\n",
      "8.03347471119078e+28\n",
      "9.532257306562194e+28\n",
      "1.129749014111075e+29\n",
      "1.3374234652344337e+29\n",
      "1.5814788421020317e+29\n",
      "1.8679786323379076e+29\n",
      "2.2039460122547966e+29\n",
      "2.59750780015744e+29\n",
      "3.058058828554148e+29\n",
      "3.5964494673841034e+29\n",
      "4.2251993742694374e+29\n",
      "4.958740932302325e+29\n",
      "5.813696265457986e+29\n",
      "6.809192201325046e+29\n",
      "7.967218085903963e+29\n",
      "9.313031951765678e+29\n",
      "1.0875621205416374e+30\n",
      "1.268822473965096e+30\n",
      "1.4788924199858383e+30\n",
      "1.7221313048521684e+30\n",
      "2.0035253089129414e+30\n",
      "2.3287729239963013e+30\n",
      "2.70438146012462e+30\n",
      "3.1377759248891916e+30\n",
      "3.6374217728006975e+30\n",
      "4.212963192547161e+30\n",
      "4.8753787888606324e+30\n",
      "5.63715672461989e+30\n",
      "6.512491619746711e+30\n",
      "7.517505758596415e+30\n",
      "8.670497439362962e+30\n",
      "9.992219609997574e+30\n",
      "1.150619227817767e+31\n",
      "1.3239052561034358e+31\n",
      "1.5220946657001004e+31\n",
      "1.7485968480960919e+31\n",
      "2.0072650208909599e+31\n",
      "2.3024510533749903e+31\n",
      "2.6390667044534173e+31\n",
      "3.0226519812628934e+31\n",
      "3.4594514005209316e+31\n",
      "3.9564990155380697e+31\n",
      "4.521713160616219e+31\n",
      "5.1640019618397415e+31\n",
      "5.893380770009313e+31\n",
      "6.721102788268623e+31\n",
      "7.659804295009863e+31\n",
      "8.723666002648418e+31\n",
      "9.928592246109671e+31\n",
      "1.1292409862330603e+32\n",
      "1.283508880527362e+32\n",
      "1.4578986740777088e+32\n",
      "1.6549120084122296e+32\n",
      "1.8773464181452095e+32\n",
      "2.1283285596083962e+32\n",
      "2.4113509744497957e+32\n",
      "2.7303127435572422e+32\n",
      "3.0895644203411762e+32\n",
      "3.493957669076905e+32\n",
      "3.948900073904577e+32\n",
      "4.460415627519386e+32\n",
      "5.035211455806568e+32\n",
      "5.6807513860385964e+32\n",
      "6.405337022013319e+32\n",
      "7.218197050186848e+32\n",
      "8.12958556662572e+32\n",
      "9.150890286051901e+32\n",
      "1.0294751571808917e+33\n"
     ]
    }
   ],
   "source": [
    "comb_35_10 = [print(comb(25 +x,x)) for x in range(10,201)] # Starting with 10 - 200, print the comb from 25."
   ]
  },
  {
   "cell_type": "code",
   "execution_count": 7,
   "metadata": {},
   "outputs": [],
   "source": [
    "import matplotlib.pyplot as plt\n",
    "%matplotlib inline\n",
    "plt.style.use(\"ggplot\")"
   ]
  },
  {
   "cell_type": "code",
   "execution_count": 10,
   "metadata": {},
   "outputs": [
    {
     "data": {
      "text/plain": [
       "[None,\n",
       " None,\n",
       " None,\n",
       " None,\n",
       " None,\n",
       " None,\n",
       " None,\n",
       " None,\n",
       " None,\n",
       " None,\n",
       " None,\n",
       " None,\n",
       " None,\n",
       " None,\n",
       " None,\n",
       " None,\n",
       " None,\n",
       " None,\n",
       " None,\n",
       " None,\n",
       " None,\n",
       " None,\n",
       " None,\n",
       " None,\n",
       " None,\n",
       " None,\n",
       " None,\n",
       " None,\n",
       " None,\n",
       " None,\n",
       " None,\n",
       " None,\n",
       " None,\n",
       " None,\n",
       " None,\n",
       " None,\n",
       " None,\n",
       " None,\n",
       " None,\n",
       " None,\n",
       " None,\n",
       " None,\n",
       " None,\n",
       " None,\n",
       " None,\n",
       " None,\n",
       " None,\n",
       " None,\n",
       " None,\n",
       " None,\n",
       " None,\n",
       " None,\n",
       " None,\n",
       " None,\n",
       " None,\n",
       " None,\n",
       " None,\n",
       " None,\n",
       " None,\n",
       " None,\n",
       " None,\n",
       " None,\n",
       " None,\n",
       " None,\n",
       " None,\n",
       " None,\n",
       " None,\n",
       " None,\n",
       " None,\n",
       " None,\n",
       " None,\n",
       " None,\n",
       " None,\n",
       " None,\n",
       " None,\n",
       " None,\n",
       " None,\n",
       " None,\n",
       " None,\n",
       " None,\n",
       " None,\n",
       " None,\n",
       " None,\n",
       " None,\n",
       " None,\n",
       " None,\n",
       " None,\n",
       " None,\n",
       " None,\n",
       " None,\n",
       " None,\n",
       " None,\n",
       " None,\n",
       " None,\n",
       " None,\n",
       " None,\n",
       " None,\n",
       " None,\n",
       " None,\n",
       " None,\n",
       " None,\n",
       " None,\n",
       " None,\n",
       " None,\n",
       " None,\n",
       " None,\n",
       " None,\n",
       " None,\n",
       " None,\n",
       " None,\n",
       " None,\n",
       " None,\n",
       " None,\n",
       " None,\n",
       " None,\n",
       " None,\n",
       " None,\n",
       " None,\n",
       " None,\n",
       " None,\n",
       " None,\n",
       " None,\n",
       " None,\n",
       " None,\n",
       " None,\n",
       " None,\n",
       " None,\n",
       " None,\n",
       " None,\n",
       " None,\n",
       " None,\n",
       " None,\n",
       " None,\n",
       " None,\n",
       " None,\n",
       " None,\n",
       " None,\n",
       " None,\n",
       " None,\n",
       " None,\n",
       " None,\n",
       " None,\n",
       " None,\n",
       " None,\n",
       " None,\n",
       " None,\n",
       " None,\n",
       " None,\n",
       " None,\n",
       " None,\n",
       " None,\n",
       " None,\n",
       " None,\n",
       " None,\n",
       " None,\n",
       " None,\n",
       " None,\n",
       " None,\n",
       " None,\n",
       " None,\n",
       " None,\n",
       " None,\n",
       " None,\n",
       " None,\n",
       " None,\n",
       " None,\n",
       " None,\n",
       " None,\n",
       " None,\n",
       " None,\n",
       " None,\n",
       " None,\n",
       " None,\n",
       " None,\n",
       " None,\n",
       " None,\n",
       " None,\n",
       " None,\n",
       " None,\n",
       " None,\n",
       " None,\n",
       " None,\n",
       " None,\n",
       " None,\n",
       " None,\n",
       " None,\n",
       " None,\n",
       " None,\n",
       " None,\n",
       " None,\n",
       " None]"
      ]
     },
     "execution_count": 10,
     "metadata": {},
     "output_type": "execute_result"
    }
   ],
   "source": [
    "comb_35_10"
   ]
  },
  {
   "cell_type": "code",
   "execution_count": 12,
   "metadata": {},
   "outputs": [],
   "source": [
    "comb_35_10_list = []\n",
    "for x in range(10, 201):\n",
    "    comb_35_10_list.append(comb(25+x,x))"
   ]
  },
  {
   "cell_type": "code",
   "execution_count": 14,
   "metadata": {},
   "outputs": [
    {
     "data": {
      "image/png": "[encoded data removed]",
      "text/plain": [
       "<Figure size 576x360 with 1 Axes>"
      ]
     },
     "metadata": {
      "needs_background": "light"
     },
     "output_type": "display_data"
    }
   ],
   "source": [
    "fig = plt.figure(figsize=(8,5))\n",
    "plt.plot(range(10,201), comb_35_10_list);"
   ]
  },
  {
   "cell_type": "markdown",
   "metadata": {},
   "source": [
    "## Creating the Monte Carlo Simulation\n",
    "\n",
    "Let's expand upon our blood pressure example from the preceding lab. Even with our previous sample sizes of a sample of 14 and a sample of 12, we had a total of over 9 million possible outcomes. As you can see from the graph above, this quantity continues to rapidly increase. As a result, it is often impractical or impossible to calculate all possible variations. Instead, use a Monte Carlo Simulation to sample from the sample space in order to emulate a permutation test. While a precise simulation of a permutation test would record which ordered combinations we have already simulate, doing so greatly reduces the speed of the process. Below is the complete samples of two populations blood pressure.  \n",
    "  \n",
    "Write a Monte Carlo simulation to sample from the permutation space. Be sure to not allow replacement so that no cases are repeated. Calculate the p-value after `10, 100, 500, 1000, 10**4, 10**5, 10**6, 2*10**6 and 5*10**6` iterations. Graph these to show how the p-value stabilizes and converges after a large number of iterations.\n",
    " "
   ]
  },
  {
   "cell_type": "code",
   "execution_count": 5,
   "metadata": {},
   "outputs": [],
   "source": [
    "a = [109.6927759 , 120.27296943, 103.54012038, 114.16555857,\n",
    "       122.93336175, 110.9271756 , 114.77443758, 116.34159338,\n",
    "       130.72888419, 116.04552895, 114.8313492 , 117.52704641,\n",
    "       109.06597142, 117.0317262 , 114.34876391, 111.32151926,\n",
    "       108.90594481, 110.95040527,  99.15890727, 117.93581615,\n",
    "       106.35644209, 112.88102458, 103.87574946, 111.88394265,\n",
    "       115.42450119, 124.02872282, 116.19121625, 115.59471365,\n",
    "       112.66413025, 118.30562665, 132.31196515, 117.99000948]\n",
    "b = [123.98967482, 141.11969004, 117.00293412, 121.6419775 ,\n",
    "       123.2703033 , 123.76944385, 105.95249634, 114.87114479,\n",
    "       110.50162354, 121.31836918, 124.9483451 , 126.04639783,\n",
    "       119.71433463, 117.49416398, 129.47657837, 115.57798929,\n",
    "       117.36035264, 130.92919224, 104.43218778, 119.97610071,\n",
    "       115.67085089, 113.77487389, 114.02470379, 116.64660978,\n",
    "       117.3023355 , 116.30944159, 123.66560428, 117.87222118,\n",
    "       128.8445079 , 111.7976685 , 117.25730744, 111.62121119,\n",
    "       110.12277446, 112.7150916 , 129.21006268, 125.97287311,\n",
    "       130.6878082 , 140.60768727, 121.95433026, 123.11996767,\n",
    "       129.93260914, 121.01049611, 129.23680238]"
   ]
  },
  {
   "cell_type": "code",
   "execution_count": 6,
   "metadata": {},
   "outputs": [],
   "source": [
    "#Your code here\n",
    "# ⏰ This cell may take several minutes to run"
   ]
  },
  {
   "cell_type": "code",
   "execution_count": 15,
   "metadata": {},
   "outputs": [
    {
     "data": {
      "text/plain": [
       "(32, 43)"
      ]
     },
     "execution_count": 15,
     "metadata": {},
     "output_type": "execute_result"
    }
   ],
   "source": [
    "len(a), len(b)"
   ]
  },
  {
   "cell_type": "code",
   "execution_count": 16,
   "metadata": {},
   "outputs": [
    {
     "data": {
      "text/plain": [
       "1.5606061216122654e+21"
      ]
     },
     "execution_count": 16,
     "metadata": {},
     "output_type": "execute_result"
    }
   ],
   "source": [
    "# Find comb/permutations using the sample lens -- That's a lot!\n",
    "comb(32+43, 32)"
   ]
  },
  {
   "cell_type": "code",
   "execution_count": 22,
   "metadata": {
    "scrolled": true
   },
   "outputs": [
    {
     "data": {
      "image/png": "[encoded data removed]",
      "text/plain": [
       "<Figure size 432x288 with 1 Axes>"
      ]
     },
     "metadata": {
      "needs_background": "light"
     },
     "output_type": "display_data"
    }
   ],
   "source": [
    "plt.hist(a, alpha=.5, label = \"Sample A (n=32)\")\n",
    "plt.hist(b, alpha=.4, label = \"Sample B (n=43)\")\n",
    "plt.legend();"
   ]
  },
  {
   "cell_type": "code",
   "execution_count": 24,
   "metadata": {},
   "outputs": [
    {
     "name": "stdout",
     "output_type": "stream",
     "text": [
      "mean_diff: -6.043384265966566\n"
     ]
    }
   ],
   "source": [
    "# Find mean difference between sample(a and b)\n",
    "import numpy as np\n",
    "mean_diff = np.mean(a) - np.mean(b)\n",
    "print(f\"mean_diff: {mean_diff}\")"
   ]
  },
  {
   "cell_type": "code",
   "execution_count": null,
   "metadata": {},
   "outputs": [],
   "source": [
    "import pandas as pd\n",
    "\n",
    "combine_samples = a + b\n",
    "len(a), len(b), len(combine_samples)"
   ]
  },
  {
   "cell_type": "code",
   "execution_count": 30,
   "metadata": {},
   "outputs": [
    {
     "data": {
      "text/plain": [
       "(75, 1)"
      ]
     },
     "execution_count": 30,
     "metadata": {},
     "output_type": "execute_result"
    }
   ],
   "source": [
    "# Combine data in samples (a and b) using pandas\n",
    "\n",
    "df = pd.DataFrame({\"all_data\": a + b})\n",
    "df.shape"
   ]
  },
  {
   "cell_type": "code",
   "execution_count": 35,
   "metadata": {},
   "outputs": [
    {
     "data": {
      "text/plain": [
       "(32, 1)"
      ]
     },
     "execution_count": 35,
     "metadata": {},
     "output_type": "execute_result"
    }
   ],
   "source": [
    "# Create resample_a based on the original len of sample(a)\n",
    "resample_a = df.sample(replace=False, random_state=33, n=len(a))\n",
    "resample_a.shape"
   ]
  },
  {
   "cell_type": "code",
   "execution_count": 36,
   "metadata": {},
   "outputs": [
    {
     "data": {
      "text/plain": [
       "(43, 1)"
      ]
     },
     "execution_count": 36,
     "metadata": {},
     "output_type": "execute_result"
    }
   ],
   "source": [
    "# To get the original len of sample b - remove sample a data from combined df -- and what is left is sample b data\n",
    "\n",
    "resample_b = df.drop(resample_a.index, axis=0) # 0 or 'index'/row\n",
    "resample_b.shape"
   ]
  },
  {
   "cell_type": "code",
   "execution_count": 40,
   "metadata": {},
   "outputs": [
    {
     "name": "stdout",
     "output_type": "stream",
     "text": [
      "      all_data\n",
      "51  119.976101\n",
      "68  130.687808\n",
      "6   114.774438\n",
      "0   109.692776\n",
      "2   103.540120\n",
      "resample_mean_diff: 1.9687283439535008\n"
     ]
    }
   ],
   "source": [
    "print(resample_a.head())\n",
    "resample_mean_diff = np.mean(resample_a[\"all_data\"]) - np.mean(resample_b[\"all_data\"])\n",
    "print(f\"resample_mean_diff: {resample_mean_diff}\")"
   ]
  },
  {
   "cell_type": "code",
   "execution_count": 64,
   "metadata": {},
   "outputs": [
    {
     "name": "stdout",
     "output_type": "stream",
     "text": [
      "\n",
      "Starting 10 Samples\n"
     ]
    },
    {
     "data": {
      "image/png": "[encoded data removed]",
      "text/plain": [
       "<Figure size 432x288 with 1 Axes>"
      ]
     },
     "metadata": {
      "needs_background": "light"
     },
     "output_type": "display_data"
    },
    {
     "name": "stdout",
     "output_type": "stream",
     "text": [
      "Time to Complete: 0.27\n",
      "\n",
      "Starting 20 Samples\n"
     ]
    },
    {
     "data": {
      "image/png": "[encoded data removed]",
      "text/plain": [
       "<Figure size 432x288 with 1 Axes>"
      ]
     },
     "metadata": {
      "needs_background": "light"
     },
     "output_type": "display_data"
    },
    {
     "name": "stdout",
     "output_type": "stream",
     "text": [
      "Time to Complete: 0.23\n",
      "\n",
      "Starting 100 Samples\n"
     ]
    },
    {
     "data": {
      "image/png": "[encoded data removed]",
      "text/plain": [
       "<Figure size 432x288 with 1 Axes>"
      ]
     },
     "metadata": {
      "needs_background": "light"
     },
     "output_type": "display_data"
    },
    {
     "name": "stdout",
     "output_type": "stream",
     "text": [
      "Time to Complete: 0.37\n",
      "\n",
      "Starting 1000 Samples\n"
     ]
    },
    {
     "data": {
      "image/png": "[encoded data removed]",
      "text/plain": [
       "<Figure size 432x288 with 1 Axes>"
      ]
     },
     "metadata": {
      "needs_background": "light"
     },
     "output_type": "display_data"
    },
    {
     "name": "stdout",
     "output_type": "stream",
     "text": [
      "Time to Complete: 1.98\n"
     ]
    }
   ],
   "source": [
    "import time\n",
    "\n",
    "for x in [10,20, 100, 1000]:\n",
    "    ts = time.time()\n",
    "    print(f\"\\nStarting {x} Samples\")\n",
    "    mean_diff = np.mean(a) - np.mean(b)\n",
    "    \n",
    "    sampl_diffs = []\n",
    "    counter = 0\n",
    "    for i in range(x):\n",
    "        resample_a = df.sample(replace=False, random_state=None, n=len(a))\n",
    "        resample_b = df.drop(resample_a.index, axis=0) # 0 or 'index'/row\n",
    "        resample_mean_diff = np.mean(resample_a[\"all_data\"]) - np.mean(resample_b[\"all_data\"])\n",
    "        sampl_diffs.append(resample_mean_diff)\n",
    "        if resample_mean_diff < mean_diff: # Count num of times resampl < org sampl\n",
    "            counter += 1  # This will be used to calc the p-value\n",
    "\n",
    "    plt.hist(sampl_diffs)\n",
    "    plt.axvline(mean_diff, color=\"blue\");\n",
    "    plt.title(f\"{x} sample |  p-value: {counter/x}\")\n",
    "    plt.show();\n",
    "    \n",
    "    te = time.time()\n",
    "    print(f\"Time to Complete: {np.round(te-ts, 2)}\")"
   ]
  },
  {
   "cell_type": "code",
   "execution_count": null,
   "metadata": {},
   "outputs": [],
   "source": []
  },
  {
   "cell_type": "code",
   "execution_count": null,
   "metadata": {},
   "outputs": [],
   "source": []
  },
  {
   "cell_type": "code",
   "execution_count": null,
   "metadata": {},
   "outputs": [],
   "source": []
  },
  {
   "cell_type": "markdown",
   "metadata": {},
   "source": [
    "## Summary\n",
    "\n",
    "In this lab you simulated a permutation test and observed both how sample sizes can explode rapidly and how p-values will converge over time in a simulation."
   ]
  }
 ],
 "metadata": {
  "kernelspec": {
   "display_name": "Python [conda env:learn-env] *",
   "language": "python",
   "name": "conda-env-learn-env-py"
  },
  "language_info": {
   "codemirror_mode": {
    "name": "ipython",
    "version": 3
   },
   "file_extension": ".py",
   "mimetype": "text/x-python",
   "name": "python",
   "nbconvert_exporter": "python",
   "pygments_lexer": "ipython3",
   "version": "3.6.6"
  },
  "toc": {
   "base_numbering": 1,
   "nav_menu": {},
   "number_sections": true,
   "sideBar": true,
   "skip_h1_title": false,
   "title_cell": "Table of Contents",
   "title_sidebar": "Contents",
   "toc_cell": false,
   "toc_position": {},
   "toc_section_display": true,
   "toc_window_display": false
  }
 },
 "nbformat": 4,
 "nbformat_minor": 2
}
